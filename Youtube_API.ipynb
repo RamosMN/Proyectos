{
  "nbformat": 4,
  "nbformat_minor": 0,
  "metadata": {
    "colab": {
      "provenance": [],
      "authorship_tag": "ABX9TyP1AwxfCJr6TBBJIiIFHdsy",
      "include_colab_link": true
    },
    "kernelspec": {
      "name": "python3",
      "display_name": "Python 3"
    },
    "language_info": {
      "name": "python"
    }
  },
  "cells": [
    {
      "cell_type": "markdown",
      "metadata": {
        "id": "view-in-github",
        "colab_type": "text"
      },
      "source": [
        "<a href=\"https://colab.research.google.com/github/RamosMN/Proyectos/blob/main/Youtube_API.ipynb\" target=\"_parent\"><img src=\"https://colab.research.google.com/assets/colab-badge.svg\" alt=\"Open In Colab\"/></a>"
      ]
    },
    {
      "cell_type": "markdown",
      "source": [
        "Esta primera práctica consiste en entender cómo hacer query's a la API de Youtube. El documento está basado en el video de StrataScratch titulado \"Working with APIs in Python [For Your Data Science Project]\" que se encuentra en el siguiente enlace: https://www.youtube.com/watch?v=fklHBWow8vE"
      ],
      "metadata": {
        "id": "KQDpGlQUFXGJ"
      }
    },
    {
      "cell_type": "code",
      "source": [
        "# Importo librerías\n",
        "import requests\n",
        "import numpy as np\n",
        "import pandas as pd\n",
        "import time\n",
        "from getpass import getpass # para ocultar key"
      ],
      "metadata": {
        "id": "Gc_PLwM0FYmB"
      },
      "execution_count": 1,
      "outputs": []
    },
    {
      "cell_type": "code",
      "source": [
        "# Keys\n",
        "API_KEY = getpass('API KEY:')\n",
        "Channel_ID = 'UCweCc7bSMX5J4jEH7HFImng' # GMHikaru, un canal de ajedrez popular que me interesa analizar"
      ],
      "metadata": {
        "id": "KlUszRw4vYHe",
        "colab": {
          "base_uri": "https://localhost:8080/"
        },
        "outputId": "07a61ccc-e5a4-45f2-9d96-f18fcb3692cb"
      },
      "execution_count": 2,
      "outputs": [
        {
          "name": "stdout",
          "output_type": "stream",
          "text": [
            "API KEY:··········\n"
          ]
        }
      ]
    },
    {
      "cell_type": "code",
      "source": [
        "#API CALL\n",
        "pageToken = ''\n",
        "url = 'https://www.googleapis.com/youtube/v3/search?key='+API_KEY+'&channelId='+Channel_ID+'&part=snippet,id'+'&order=date&maxResults=1000'+pageToken\n",
        "Respuesta = requests.get(url).json()\n"
      ],
      "metadata": {
        "id": "M9GHWuyBzHJ-"
      },
      "execution_count": 96,
      "outputs": []
    },
    {
      "cell_type": "code",
      "source": [
        "len(Respuesta['items'])"
      ],
      "metadata": {
        "colab": {
          "base_uri": "https://localhost:8080/"
        },
        "id": "G-EqIyscMOHg",
        "outputId": "660bdfd7-9bd0-456a-d1f9-c5859b3d2f07"
      },
      "execution_count": 98,
      "outputs": [
        {
          "output_type": "execute_result",
          "data": {
            "text/plain": [
              "50"
            ]
          },
          "metadata": {},
          "execution_count": 98
        }
      ]
    },
    {
      "cell_type": "code",
      "source": [
        "# Respuesta   # los datos están en la key 'items'\n",
        "\n",
        "Ides = []\n",
        "Fecha = []\n",
        "\n",
        "for video in Respuesta['items']:\n",
        "  if video['id']['kind'] == 'youtube#video':\n",
        "\n",
        "    Id = video['id']['videoId']\n",
        "    Date = video['snippet']['publishTime']\n",
        "    Date = Date.split('T')[0]\n",
        "\n",
        "    Ides.append(Id)\n",
        "    Fecha.append(Date)"
      ],
      "metadata": {
        "id": "NVrML1H4TcSi"
      },
      "execution_count": 99,
      "outputs": []
    },
    {
      "cell_type": "code",
      "source": [
        "df_fechas =  pd.DataFrame(columns = ['Fecha'])\n",
        "for f in Fecha:\n",
        "  df_fechas = df_fechas.append({'Fecha' : f}, ignore_index=True)"
      ],
      "metadata": {
        "id": "ZhKaIYcoIcya"
      },
      "execution_count": 100,
      "outputs": []
    },
    {
      "cell_type": "code",
      "source": [
        "np.shape(Ides), np.shape(Respuesta['items'])"
      ],
      "metadata": {
        "colab": {
          "base_uri": "https://localhost:8080/"
        },
        "id": "Tk2aOHxXQCwQ",
        "outputId": "7917cb8d-6a28-4b65-b623-571d40c3ba92"
      },
      "execution_count": 101,
      "outputs": [
        {
          "output_type": "execute_result",
          "data": {
            "text/plain": [
              "((49,), (50,))"
            ]
          },
          "metadata": {},
          "execution_count": 101
        }
      ]
    },
    {
      "cell_type": "code",
      "source": [
        "#Segunda API CALL\n",
        "pageToken = ''\n",
        "\n",
        "for Ids in Ides:\n",
        "  url = 'https://www.googleapis.com/youtube/v3/videos?key='+API_KEY+'&id='+Ids+'&maxResults=100'+'&part=snippet, statistics'+pageToken\n",
        "  Respuesta2 = requests.get(url).json()"
      ],
      "metadata": {
        "id": "Dsu7cfDeXvEm"
      },
      "execution_count": 102,
      "outputs": []
    },
    {
      "cell_type": "code",
      "source": [
        "view = Respuesta2['items'][0]['statistics']['viewCount']\n",
        "like = Respuesta2['items'][0]['statistics']['likeCount']\n",
        "fav = Respuesta2['items'][0]['statistics']['favoriteCount']\n",
        "comm = Respuesta2['items'][0]['statistics']['commentCount']\n",
        "print(view, like, fav, comm)"
      ],
      "metadata": {
        "id": "7SxFtgd4fOxy",
        "outputId": "c4b374f8-c7d0-4400-e8ee-1195337e3f2b",
        "colab": {
          "base_uri": "https://localhost:8080/"
        }
      },
      "execution_count": 103,
      "outputs": [
        {
          "output_type": "stream",
          "name": "stdout",
          "text": [
            "258877 5283 0 1512\n"
          ]
        }
      ]
    },
    {
      "cell_type": "markdown",
      "source": [
        "Por cada video quiero guardar esa info en una tabla, para eso se crea un dataframe en pandas vacío con el nombre de las columnas correspondiente"
      ],
      "metadata": {
        "id": "DzEpkpxsRU-0"
      }
    },
    {
      "cell_type": "code",
      "source": [
        "df = pd.DataFrame(columns = ['Vistas', 'Likes', 'Favoritos', 'Comentarios'])\n",
        "df"
      ],
      "metadata": {
        "colab": {
          "base_uri": "https://localhost:8080/",
          "height": 49
        },
        "id": "rpvKPvodAKTL",
        "outputId": "4afbf906-3a87-42cb-cfad-adfd3b795b2a"
      },
      "execution_count": 104,
      "outputs": [
        {
          "output_type": "execute_result",
          "data": {
            "text/plain": [
              "Empty DataFrame\n",
              "Columns: [Vistas, Likes, Favoritos, Comentarios]\n",
              "Index: []"
            ],
            "text/html": [
              "\n",
              "  <div id=\"df-54f56f78-f569-4b4a-b58d-2a8b705f4194\">\n",
              "    <div class=\"colab-df-container\">\n",
              "      <div>\n",
              "<style scoped>\n",
              "    .dataframe tbody tr th:only-of-type {\n",
              "        vertical-align: middle;\n",
              "    }\n",
              "\n",
              "    .dataframe tbody tr th {\n",
              "        vertical-align: top;\n",
              "    }\n",
              "\n",
              "    .dataframe thead th {\n",
              "        text-align: right;\n",
              "    }\n",
              "</style>\n",
              "<table border=\"1\" class=\"dataframe\">\n",
              "  <thead>\n",
              "    <tr style=\"text-align: right;\">\n",
              "      <th></th>\n",
              "      <th>Vistas</th>\n",
              "      <th>Likes</th>\n",
              "      <th>Favoritos</th>\n",
              "      <th>Comentarios</th>\n",
              "    </tr>\n",
              "  </thead>\n",
              "  <tbody>\n",
              "  </tbody>\n",
              "</table>\n",
              "</div>\n",
              "      <button class=\"colab-df-convert\" onclick=\"convertToInteractive('df-54f56f78-f569-4b4a-b58d-2a8b705f4194')\"\n",
              "              title=\"Convert this dataframe to an interactive table.\"\n",
              "              style=\"display:none;\">\n",
              "        \n",
              "  <svg xmlns=\"http://www.w3.org/2000/svg\" height=\"24px\"viewBox=\"0 0 24 24\"\n",
              "       width=\"24px\">\n",
              "    <path d=\"M0 0h24v24H0V0z\" fill=\"none\"/>\n",
              "    <path d=\"M18.56 5.44l.94 2.06.94-2.06 2.06-.94-2.06-.94-.94-2.06-.94 2.06-2.06.94zm-11 1L8.5 8.5l.94-2.06 2.06-.94-2.06-.94L8.5 2.5l-.94 2.06-2.06.94zm10 10l.94 2.06.94-2.06 2.06-.94-2.06-.94-.94-2.06-.94 2.06-2.06.94z\"/><path d=\"M17.41 7.96l-1.37-1.37c-.4-.4-.92-.59-1.43-.59-.52 0-1.04.2-1.43.59L10.3 9.45l-7.72 7.72c-.78.78-.78 2.05 0 2.83L4 21.41c.39.39.9.59 1.41.59.51 0 1.02-.2 1.41-.59l7.78-7.78 2.81-2.81c.8-.78.8-2.07 0-2.86zM5.41 20L4 18.59l7.72-7.72 1.47 1.35L5.41 20z\"/>\n",
              "  </svg>\n",
              "      </button>\n",
              "      \n",
              "  <style>\n",
              "    .colab-df-container {\n",
              "      display:flex;\n",
              "      flex-wrap:wrap;\n",
              "      gap: 12px;\n",
              "    }\n",
              "\n",
              "    .colab-df-convert {\n",
              "      background-color: #E8F0FE;\n",
              "      border: none;\n",
              "      border-radius: 50%;\n",
              "      cursor: pointer;\n",
              "      display: none;\n",
              "      fill: #1967D2;\n",
              "      height: 32px;\n",
              "      padding: 0 0 0 0;\n",
              "      width: 32px;\n",
              "    }\n",
              "\n",
              "    .colab-df-convert:hover {\n",
              "      background-color: #E2EBFA;\n",
              "      box-shadow: 0px 1px 2px rgba(60, 64, 67, 0.3), 0px 1px 3px 1px rgba(60, 64, 67, 0.15);\n",
              "      fill: #174EA6;\n",
              "    }\n",
              "\n",
              "    [theme=dark] .colab-df-convert {\n",
              "      background-color: #3B4455;\n",
              "      fill: #D2E3FC;\n",
              "    }\n",
              "\n",
              "    [theme=dark] .colab-df-convert:hover {\n",
              "      background-color: #434B5C;\n",
              "      box-shadow: 0px 1px 3px 1px rgba(0, 0, 0, 0.15);\n",
              "      filter: drop-shadow(0px 1px 2px rgba(0, 0, 0, 0.3));\n",
              "      fill: #FFFFFF;\n",
              "    }\n",
              "  </style>\n",
              "\n",
              "      <script>\n",
              "        const buttonEl =\n",
              "          document.querySelector('#df-54f56f78-f569-4b4a-b58d-2a8b705f4194 button.colab-df-convert');\n",
              "        buttonEl.style.display =\n",
              "          google.colab.kernel.accessAllowed ? 'block' : 'none';\n",
              "\n",
              "        async function convertToInteractive(key) {\n",
              "          const element = document.querySelector('#df-54f56f78-f569-4b4a-b58d-2a8b705f4194');\n",
              "          const dataTable =\n",
              "            await google.colab.kernel.invokeFunction('convertToInteractive',\n",
              "                                                     [key], {});\n",
              "          if (!dataTable) return;\n",
              "\n",
              "          const docLinkHtml = 'Like what you see? Visit the ' +\n",
              "            '<a target=\"_blank\" href=https://colab.research.google.com/notebooks/data_table.ipynb>data table notebook</a>'\n",
              "            + ' to learn more about interactive tables.';\n",
              "          element.innerHTML = '';\n",
              "          dataTable['output_type'] = 'display_data';\n",
              "          await google.colab.output.renderOutput(dataTable, element);\n",
              "          const docLink = document.createElement('div');\n",
              "          docLink.innerHTML = docLinkHtml;\n",
              "          element.appendChild(docLink);\n",
              "        }\n",
              "      </script>\n",
              "    </div>\n",
              "  </div>\n",
              "  "
            ]
          },
          "metadata": {},
          "execution_count": 104
        }
      ]
    },
    {
      "cell_type": "code",
      "source": [
        "# Realizo el loop y agrego la info al dataframe\n",
        "A = []\n",
        "for Ids in Ides:\n",
        "  url = 'https://www.googleapis.com/youtube/v3/videos?key='+API_KEY+'&id='+Ids+'&maxResults=100'+'&part=snippet, statistics'+pageToken\n",
        "  Respuesta2 = requests.get(url).json()\n",
        "\n",
        "  view = Respuesta2['items'][0]['statistics']['viewCount']\n",
        "  like = Respuesta2['items'][0]['statistics']['likeCount']\n",
        "  fav = Respuesta2['items'][0]['statistics']['favoriteCount']\n",
        "  comm = Respuesta2['items'][0]['statistics']['commentCount']\n",
        "\n",
        "  # https://stackoverflow.com/questions/53924656/df-append-is-not-appending-to-the-dataframe\n",
        "  df = df.append({'Vistas' : view, 'Likes' : like, 'Favoritos' : fav, 'Comentarios' : comm}, ignore_index=True)"
      ],
      "metadata": {
        "id": "YHYynHOfAjXG"
      },
      "execution_count": 105,
      "outputs": []
    },
    {
      "cell_type": "code",
      "source": [
        "len(df_fechas), len(df)"
      ],
      "metadata": {
        "colab": {
          "base_uri": "https://localhost:8080/"
        },
        "id": "rG2Z3jB6Bs3o",
        "outputId": "8ea6cb2f-ab14-4fae-e9be-0258480fe066"
      },
      "execution_count": 106,
      "outputs": [
        {
          "output_type": "execute_result",
          "data": {
            "text/plain": [
              "(49, 49)"
            ]
          },
          "metadata": {},
          "execution_count": 106
        }
      ]
    },
    {
      "cell_type": "code",
      "source": [
        "videos = Respuesta2['items']\n",
        "views, likes, favs, comms = [], [], [], []\n",
        "for video in videos:\n",
        "  views.append( video['statistics']['viewCount'] )\n",
        "  likes.append( video['statistics']['likeCount'] )\n",
        "  favs.append( video['statistics']['favoriteCount'] )\n",
        "  comms.append( video['statistics']['commentCount'] )"
      ],
      "metadata": {
        "id": "WxrAhajQFVgq"
      },
      "execution_count": null,
      "outputs": []
    },
    {
      "cell_type": "code",
      "source": [
        "# https://stackoverflow.com/questions/38256750/make-a-scatter-plot-in-matplotlib-with-dates-on-x-axis-and-values-on-y\n",
        "dates = [pd.to_datetime(f) for f in Fecha]"
      ],
      "metadata": {
        "id": "7hOzK1EgI5J4"
      },
      "execution_count": 108,
      "outputs": []
    },
    {
      "cell_type": "code",
      "source": [
        "%matplotlib inline\n",
        "import matplotlib.pyplot as plt"
      ],
      "metadata": {
        "id": "3WSrEO0DPqkw"
      },
      "execution_count": 94,
      "outputs": []
    },
    {
      "cell_type": "code",
      "source": [
        "fig, ax = plt.subplots(1, 1, figsize = (9.5, 7))\n",
        "vist = df['Vistas'].values.astype(float)\n",
        "ax.plot_date(dates, vist, c = 'red')\n",
        "# ax.set_yticks([2000, 300000])\n",
        "# ax.set_yscale('log')"
      ],
      "metadata": {
        "colab": {
          "base_uri": "https://localhost:8080/",
          "height": 446
        },
        "id": "jrfJcUFGKfo2",
        "outputId": "bbd6a85a-ef5f-4bc0-de4e-cb1fcdde47e4"
      },
      "execution_count": 109,
      "outputs": [
        {
          "output_type": "execute_result",
          "data": {
            "text/plain": [
              "[<matplotlib.lines.Line2D at 0x7f1516cadd90>]"
            ]
          },
          "metadata": {},
          "execution_count": 109
        },
        {
          "output_type": "display_data",
          "data": {
            "text/plain": [
              "<Figure size 684x504 with 1 Axes>"
            ],
            "image/png": "[encoded data removed]"
          },
          "metadata": {
            "needs_background": "light"
          }
        }
      ]
    },
    {
      "cell_type": "code",
      "source": [
        "dates"
      ],
      "metadata": {
        "colab": {
          "base_uri": "https://localhost:8080/"
        },
        "id": "n19rdKV_MChQ",
        "outputId": "d3ab743e-1c73-41d3-b7ce-014ce6fe100f"
      },
      "execution_count": 110,
      "outputs": [
        {
          "output_type": "execute_result",
          "data": {
            "text/plain": [
              "[Timestamp('2022-10-11 00:00:00'),\n",
              " Timestamp('2022-10-11 00:00:00'),\n",
              " Timestamp('2022-10-10 00:00:00'),\n",
              " Timestamp('2022-10-10 00:00:00'),\n",
              " Timestamp('2022-10-09 00:00:00'),\n",
              " Timestamp('2022-10-09 00:00:00'),\n",
              " Timestamp('2022-10-08 00:00:00'),\n",
              " Timestamp('2022-10-08 00:00:00'),\n",
              " Timestamp('2022-10-07 00:00:00'),\n",
              " Timestamp('2022-10-07 00:00:00'),\n",
              " Timestamp('2022-10-06 00:00:00'),\n",
              " Timestamp('2022-10-06 00:00:00'),\n",
              " Timestamp('2022-10-05 00:00:00'),\n",
              " Timestamp('2022-10-05 00:00:00'),\n",
              " Timestamp('2022-10-04 00:00:00'),\n",
              " Timestamp('2022-10-04 00:00:00'),\n",
              " Timestamp('2022-10-04 00:00:00'),\n",
              " Timestamp('2022-10-03 00:00:00'),\n",
              " Timestamp('2022-10-03 00:00:00'),\n",
              " Timestamp('2022-10-02 00:00:00'),\n",
              " Timestamp('2022-10-02 00:00:00'),\n",
              " Timestamp('2022-10-01 00:00:00'),\n",
              " Timestamp('2022-10-01 00:00:00'),\n",
              " Timestamp('2022-09-30 00:00:00'),\n",
              " Timestamp('2022-09-30 00:00:00'),\n",
              " Timestamp('2022-09-29 00:00:00'),\n",
              " Timestamp('2022-09-28 00:00:00'),\n",
              " Timestamp('2022-09-27 00:00:00'),\n",
              " Timestamp('2022-09-27 00:00:00'),\n",
              " Timestamp('2022-09-26 00:00:00'),\n",
              " Timestamp('2022-09-25 00:00:00'),\n",
              " Timestamp('2022-09-24 00:00:00'),\n",
              " Timestamp('2022-09-23 00:00:00'),\n",
              " Timestamp('2022-09-22 00:00:00'),\n",
              " Timestamp('2022-09-22 00:00:00'),\n",
              " Timestamp('2022-09-21 00:00:00'),\n",
              " Timestamp('2022-09-20 00:00:00'),\n",
              " Timestamp('2022-09-19 00:00:00'),\n",
              " Timestamp('2022-09-18 00:00:00'),\n",
              " Timestamp('2022-09-18 00:00:00'),\n",
              " Timestamp('2022-09-17 00:00:00'),\n",
              " Timestamp('2022-09-16 00:00:00'),\n",
              " Timestamp('2022-09-15 00:00:00'),\n",
              " Timestamp('2022-09-15 00:00:00'),\n",
              " Timestamp('2022-09-14 00:00:00'),\n",
              " Timestamp('2022-09-13 00:00:00'),\n",
              " Timestamp('2022-09-13 00:00:00'),\n",
              " Timestamp('2022-09-12 00:00:00'),\n",
              " Timestamp('2022-09-11 00:00:00')]"
            ]
          },
          "metadata": {},
          "execution_count": 110
        }
      ]
    }
  ]
}