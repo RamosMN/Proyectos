{
  "nbformat": 4,
  "nbformat_minor": 0,
  "metadata": {
    "colab": {
      "provenance": [],
      "authorship_tag": "ABX9TyNZD3qTAiqXHkjrHxWOSqoX",
      "include_colab_link": true
    },
    "kernelspec": {
      "name": "python3",
      "display_name": "Python 3"
    },
    "language_info": {
      "name": "python"
    }
  },
  "cells": [
    {
      "cell_type": "markdown",
      "metadata": {
        "id": "view-in-github",
        "colab_type": "text"
      },
      "source": [
        "<a href=\"https://colab.research.google.com/github/RamosMN/Proyectos/blob/main/Youtube_API.ipynb\" target=\"_parent\"><img src=\"https://colab.research.google.com/assets/colab-badge.svg\" alt=\"Open In Colab\"/></a>"
      ]
    },
    {
      "cell_type": "markdown",
      "source": [
        "Esta primera práctica consiste en entender cómo hacer query's a la API de Youtube. El documento está basado en el video de StrataScratch titulado \"Working with APIs in Python [For Your Data Science Project]\" que se encuentra en el siguiente enlace: https://www.youtube.com/watch?v=fklHBWow8vE"
      ],
      "metadata": {
        "id": "KQDpGlQUFXGJ"
      }
    },
    {
      "cell_type": "code",
      "source": [
        "# Importo librerías\n",
        "import requests\n",
        "import numpy as np\n",
        "import pandas as pd\n",
        "import time\n",
        "from getpass import getpass # para ocultar key"
      ],
      "metadata": {
        "id": "Gc_PLwM0FYmB"
      },
      "execution_count": 19,
      "outputs": []
    },
    {
      "cell_type": "code",
      "source": [
        "# Keys\n",
        "API_KEY = getpass('API KEY:')\n",
        "Channel_ID = 'UCweCc7bSMX5J4jEH7HFImng' # GMHikaru, un canal de ajedrez popular que me interesa analizar"
      ],
      "metadata": {
        "id": "KlUszRw4vYHe",
        "colab": {
          "base_uri": "https://localhost:8080/"
        },
        "outputId": "a28a1082-0422-4481-9467-dacf8f987d08"
      },
      "execution_count": 6,
      "outputs": [
        {
          "name": "stdout",
          "output_type": "stream",
          "text": [
            "API KEY:··········\n"
          ]
        }
      ]
    },
    {
      "cell_type": "code",
      "source": [
        "#API CALL\n",
        "pageToken = ''\n",
        "url = 'https://www.googleapis.com/youtube/v3/search?key='+API_KEY+'&channelId='+Channel_ID+'&part=snippet,id'+'&order=date&maxResults=100'+pageToken\n",
        "Respuesta = requests.get(url).json()\n"
      ],
      "metadata": {
        "id": "M9GHWuyBzHJ-"
      },
      "execution_count": 7,
      "outputs": []
    },
    {
      "cell_type": "code",
      "source": [
        "# Respuesta   # los datos están en la key 'items'\n",
        "\n",
        "Ides = []\n",
        "Fecha = []\n",
        "\n",
        "for video in Respuesta['items']:\n",
        "  if video['id']['kind'] == 'youtube#video':\n",
        "\n",
        "    Id = video['id']['videoId']\n",
        "    Date = video['snippet']['publishTime']\n",
        "    Date = Date.split('T')[0]\n",
        "\n",
        "    Ides.append(Id)\n",
        "    Fecha.append(Date)"
      ],
      "metadata": {
        "id": "NVrML1H4TcSi"
      },
      "execution_count": 9,
      "outputs": []
    },
    {
      "cell_type": "code",
      "source": [
        "np.shape(Ides), np.shape(Respuesta['items'])"
      ],
      "metadata": {
        "colab": {
          "base_uri": "https://localhost:8080/"
        },
        "id": "Tk2aOHxXQCwQ",
        "outputId": "fc9f738e-79ac-4862-cc91-a4a2cb8ffc16"
      },
      "execution_count": 24,
      "outputs": [
        {
          "output_type": "execute_result",
          "data": {
            "text/plain": [
              "((50,), (50,))"
            ]
          },
          "metadata": {},
          "execution_count": 24
        }
      ]
    },
    {
      "cell_type": "code",
      "source": [
        "#Segunda API CALL\n",
        "pageToken = ''\n",
        "\n",
        "for Ids in Ides:\n",
        "  url = 'https://www.googleapis.com/youtube/v3/videos?key='+API_KEY+'&id='+Ids+'&maxResults=100'+'&part=snippet, statistics'+pageToken\n",
        "  Respuesta2 = requests.get(url).json()"
      ],
      "metadata": {
        "id": "Dsu7cfDeXvEm"
      },
      "execution_count": 31,
      "outputs": []
    },
    {
      "cell_type": "code",
      "source": [
        "view = Respuesta2['items'][0]['statistics']['viewCount']\n",
        "like = Respuesta2['items'][0]['statistics']['likeCount']\n",
        "fav = Respuesta2['items'][0]['statistics']['favoriteCount']\n",
        "comm = Respuesta2['items'][0]['statistics']['commentCount']\n",
        "print(view, like, fav, comm)"
      ],
      "metadata": {
        "id": "7SxFtgd4fOxy",
        "outputId": "5e1b0fbc-ab2a-4ee2-d4d8-52fd201e5886",
        "colab": {
          "base_uri": "https://localhost:8080/"
        }
      },
      "execution_count": 33,
      "outputs": [
        {
          "output_type": "stream",
          "name": "stdout",
          "text": [
            "96042 2673 0 233\n"
          ]
        }
      ]
    },
    {
      "cell_type": "markdown",
      "source": [
        "Por cada video quiero guardar esa info en una tabla, para eso se crea un dataframe en pandas vacío con el nombre de las columnas correspondiente"
      ],
      "metadata": {
        "id": "DzEpkpxsRU-0"
      }
    },
    {
      "cell_type": "code",
      "source": [
        "videos = Respuesta2['items']\n",
        "views, likes, favs, comms = [], [], [], []\n",
        "for video in videos:\n",
        "  views.append( video['statistics']['viewCount'] )\n",
        "  likes.append( video['statistics']['likeCount'] )\n",
        "  favs.append( video['statistics']['favoriteCount'] )\n",
        "  comms.append( video['statistics']['commentCount'] )"
      ],
      "metadata": {
        "id": "WxrAhajQFVgq"
      },
      "execution_count": 14,
      "outputs": []
    },
    {
      "cell_type": "code",
      "source": [
        "np.shape(videos)"
      ],
      "metadata": {
        "colab": {
          "base_uri": "https://localhost:8080/"
        },
        "id": "3WSrEO0DPqkw",
        "outputId": "047201c5-bd58-4a2a-b810-4fa64bb5b48e"
      },
      "execution_count": 20,
      "outputs": [
        {
          "output_type": "execute_result",
          "data": {
            "text/plain": [
              "(1,)"
            ]
          },
          "metadata": {},
          "execution_count": 20
        }
      ]
    }
  ]
}